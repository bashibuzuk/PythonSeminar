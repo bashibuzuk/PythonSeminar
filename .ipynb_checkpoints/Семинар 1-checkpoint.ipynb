{
 "cells": [
  {
   "cell_type": "markdown",
   "id": "55e540aa-5dd1-4eb0-b722-94d553eeb500",
   "metadata": {},
   "source": [
    "# Соединение двух словарей"
   ]
  },
  {
   "cell_type": "code",
   "execution_count": 13,
   "id": "7c777b80-59cc-42a8-9735-f586e10ca267",
   "metadata": {},
   "outputs": [],
   "source": [
    "dict1 = {'One': 1, 'Two': 2, 'Three': 3}\n",
    "dict2 = {'Four': 4, 'Five': 5, 'Six': 6}"
   ]
  },
  {
   "cell_type": "code",
   "execution_count": 14,
   "id": "4847e8bc-07f4-4e96-a9a2-d64685e7a02a",
   "metadata": {},
   "outputs": [
    {
     "data": {
      "text/plain": [
       "{'One': 1, 'Two': 2, 'Three': 3, 'Four': 4, 'Five': 5, 'Six': 6}"
      ]
     },
     "execution_count": 14,
     "metadata": {},
     "output_type": "execute_result"
    }
   ],
   "source": [
    "dict4 = {**dict1, **dict2}\n",
    "dict4"
   ]
  },
  {
   "cell_type": "code",
   "execution_count": 15,
   "id": "57a4854c-dbbd-4b29-a37d-ff7a4ad693e5",
   "metadata": {},
   "outputs": [
    {
     "data": {
      "text/plain": [
       "{'One': 1, 'Two': 2, 'Three': 3, 'Four': 4, 'Five': 5, 'Six': 6}"
      ]
     },
     "execution_count": 15,
     "metadata": {},
     "output_type": "execute_result"
    }
   ],
   "source": [
    "dict5 = dict1.copy()\n",
    "dict5.update(dict2)\n",
    "dict5"
   ]
  },
  {
   "cell_type": "code",
   "execution_count": 16,
   "id": "7927a23a-8c76-4ee2-8a3e-12133b6e9c9b",
   "metadata": {},
   "outputs": [
    {
     "data": {
      "text/plain": [
       "{'One': 1, 'Two': 2, 'Three': 3}"
      ]
     },
     "execution_count": 16,
     "metadata": {},
     "output_type": "execute_result"
    }
   ],
   "source": [
    "dict1"
   ]
  },
  {
   "cell_type": "markdown",
   "id": "eacc0099-cda5-44b2-9be7-13e7b1d70140",
   "metadata": {},
   "source": [
    "# Написать функцию, обхединяющую два словаря"
   ]
  },
  {
   "cell_type": "code",
   "execution_count": 19,
   "id": "a5e6a158-563a-4a92-9489-f02a9018817e",
   "metadata": {},
   "outputs": [
    {
     "data": {
      "text/plain": [
       "{'One': 1, 'Two': 2, 'Three': 3, 'Four': 4, 'Five': 5, 'Six': 6}"
      ]
     },
     "execution_count": 19,
     "metadata": {},
     "output_type": "execute_result"
    }
   ],
   "source": [
    "def merge (d1, d2):\n",
    "    for key in d2:\n",
    "        d1[key]= d2[key]\n",
    "    return d1\n",
    "\n",
    "merge (dict1, dict2)"
   ]
  },
  {
   "cell_type": "markdown",
   "id": "f72c9be0-ca9d-42d2-95e4-7437ec6edc2b",
   "metadata": {},
   "source": [
    "# Создать словарь из двух листов"
   ]
  },
  {
   "cell_type": "code",
   "execution_count": 34,
   "id": "1c27d9c2-1af1-4ed0-84c4-e0d50360a3fa",
   "metadata": {},
   "outputs": [],
   "source": [
    "keys = ['one', 'two', 'three']\n",
    "values = [1, 2, 3]"
   ]
  },
  {
   "cell_type": "code",
   "execution_count": 41,
   "id": "af45e704-7282-406a-8684-eb9a63e81f01",
   "metadata": {},
   "outputs": [
    {
     "data": {
      "text/plain": [
       "{'one': 1, 'two': 2, 'three': 3}"
      ]
     },
     "execution_count": 41,
     "metadata": {},
     "output_type": "execute_result"
    }
   ],
   "source": [
    "def create_dict(k: list, v: list) -> list:\n",
    "    res_dict = {}\n",
    "    for i in range(len(k)):\n",
    "        res_dict[k[i]] = v[i]\n",
    "    return res_dict\n",
    "\n",
    "create_dict(keys, values)\n"
   ]
  },
  {
   "cell_type": "markdown",
   "id": "f444db34-0765-4462-b082-86fc106da0bb",
   "metadata": {},
   "source": [
    "# Использовать dict comprehension"
   ]
  },
  {
   "cell_type": "code",
   "execution_count": 43,
   "id": "0b8e6a41-ce02-4012-bc32-a2dcb9675a57",
   "metadata": {},
   "outputs": [
    {
     "data": {
      "text/plain": [
       "{'one': 1, 'two': 2, 'three': 3}"
      ]
     },
     "execution_count": 43,
     "metadata": {},
     "output_type": "execute_result"
    }
   ],
   "source": [
    "{keys[i]: values[i] for i in range(len(keys))}"
   ]
  },
  {
   "cell_type": "markdown",
   "id": "9dfc852a-f2e6-45f0-828d-b955a010cc38",
   "metadata": {},
   "source": [
    "# Извлечь значение ключей Name и Age "
   ]
  },
  {
   "cell_type": "code",
   "execution_count": 51,
   "id": "891445fc-be00-451e-96cf-ad1c49fc0de6",
   "metadata": {},
   "outputs": [],
   "source": [
    "client_dict = {'Name': 'Roma','Age': 25, 'Salary': 25000, 'city': 'Moscow'}"
   ]
  },
  {
   "cell_type": "code",
   "execution_count": 53,
   "id": "95ac0455-c7c1-4357-975c-29cdaa3f7fe8",
   "metadata": {},
   "outputs": [
    {
     "data": {
      "text/plain": [
       "{'Name': 'Roma', 'Age': 25}"
      ]
     },
     "execution_count": 53,
     "metadata": {},
     "output_type": "execute_result"
    }
   ],
   "source": [
    "def get_dict(d1: dict, d2: list = ['Name', 'Age']) -> dict:\n",
    "    res = {}\n",
    "    for key in d2:\n",
    "        res[key] = d1[key]\n",
    "    return res\n",
    "\n",
    "get_dict(client_dict)\n",
    "    \n",
    "    "
   ]
  },
  {
   "cell_type": "markdown",
   "id": "67025886-274b-40be-bf2b-3d27b4c0e492",
   "metadata": {},
   "source": [
    "# Использовать dict comprehension2"
   ]
  },
  {
   "cell_type": "code",
   "execution_count": 55,
   "id": "764e2355-9f05-4599-a7b4-cc1fa109c005",
   "metadata": {},
   "outputs": [
    {
     "data": {
      "text/plain": [
       "{'Name': 'Roma', 'Age': 25}"
      ]
     },
     "execution_count": 55,
     "metadata": {},
     "output_type": "execute_result"
    }
   ],
   "source": [
    "{key : client_dict[key] for key in ['Name', 'Age']}"
   ]
  },
  {
   "cell_type": "markdown",
   "id": "469a2a49-401f-4267-8b98-591be69400a0",
   "metadata": {},
   "source": [
    "# Сгенерировать случайные числа в диапозоне от 0 до 100"
   ]
  },
  {
   "cell_type": "code",
   "execution_count": 63,
   "id": "9d5e495d-d728-43f7-8b1b-702b7e987ab5",
   "metadata": {},
   "outputs": [
    {
     "data": {
      "text/plain": [
       "[79, 32, 94, 45, 88]"
      ]
     },
     "execution_count": 63,
     "metadata": {},
     "output_type": "execute_result"
    }
   ],
   "source": [
    "import random\n",
    "random.seed(5)\n",
    "nums = [random.randint(0, 100) for _ in range(5)]\n",
    "nums"
   ]
  },
  {
   "cell_type": "markdown",
   "id": "866f5ce2-8332-4942-aad5-3b815c5619c2",
   "metadata": {},
   "source": [
    "# Написать генератор"
   ]
  },
  {
   "cell_type": "code",
   "execution_count": 74,
   "id": "50c39596-e699-41e1-81f9-94ecdcc43ac3",
   "metadata": {},
   "outputs": [
    {
     "name": "stdout",
     "output_type": "stream",
     "text": [
      "(79, 0)\n",
      "(32, 2)\n",
      "(94, 2)\n",
      "(45, 2)\n",
      "(88, 2)\n"
     ]
    }
   ],
   "source": [
    "import time\n",
    "\n",
    "def function(nums_list):\n",
    "    last_time = time.time()\n",
    "    for num in nums_list:\n",
    "        cur_time = time.time()\n",
    "        yield  num, int(cur_time - last_time)\n",
    "        last_time = cur_time\n",
    "\n",
    "for t in function(nums):\n",
    "    print(t)\n",
    "    time.sleep(2)"
   ]
  },
  {
   "cell_type": "markdown",
   "id": "27a0fd01-4aca-4c9a-8078-483d7c2de5bd",
   "metadata": {},
   "source": [
    "# функция, которая считает среднее"
   ]
  },
  {
   "cell_type": "code",
   "execution_count": 81,
   "id": "28e6042f-7b15-4a9b-876b-06c065652876",
   "metadata": {},
   "outputs": [
    {
     "name": "stdout",
     "output_type": "stream",
     "text": [
      "(1, 2, 3, 4, 5, 6)\n"
     ]
    },
    {
     "data": {
      "text/plain": [
       "3.5"
      ]
     },
     "execution_count": 81,
     "metadata": {},
     "output_type": "execute_result"
    }
   ],
   "source": [
    "def calc(*args):\n",
    "    print(args)\n",
    "    summa = sum(args)/len(args)\n",
    "    return summa\n",
    "\n",
    "calc(1, 2, 3, 4, 5, 6)"
   ]
  }
 ],
 "metadata": {
  "kernelspec": {
   "display_name": "Python 3 (ipykernel)",
   "language": "python",
   "name": "python3"
  },
  "language_info": {
   "codemirror_mode": {
    "name": "ipython",
    "version": 3
   },
   "file_extension": ".py",
   "mimetype": "text/x-python",
   "name": "python",
   "nbconvert_exporter": "python",
   "pygments_lexer": "ipython3",
   "version": "3.8.8rc1"
  },
  "vscode": {
   "interpreter": {
    "hash": "eb2d72e02902f320e5f7a5e4543cf65c80b1dd90980580406b326201c9b58363"
   }
  }
 },
 "nbformat": 4,
 "nbformat_minor": 5
}
